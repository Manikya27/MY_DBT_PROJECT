{
 "cells": [
  {
   "cell_type": "code",
   "execution_count": 0,
   "metadata": {
    "application/vnd.databricks.v1+cell": {
     "cellMetadata": {
      "byteLimit": 2048000,
      "rowLimit": 10000
     },
     "inputWidgets": {},
     "nuid": "e4861ede-4f52-4be9-88aa-b3a0a50a3af5",
     "showTitle": false,
     "tableResultSettingsMap": {},
     "title": ""
    }
   },
   "outputs": [],
   "source": [
    "import pandas as pd\n",
    "import numpy as np \n",
    "import matplotlib.pyplot as plt\n",
    "from pyspark.sql.functions import *"
   ]
  },
  {
   "cell_type": "code",
   "execution_count": 0,
   "metadata": {
    "application/vnd.databricks.v1+cell": {
     "cellMetadata": {
      "byteLimit": 2048000,
      "rowLimit": 10000
     },
     "inputWidgets": {},
     "nuid": "d89898ea-5d46-48e2-a9ec-cc17f24a7d21",
     "showTitle": false,
     "tableResultSettingsMap": {},
     "title": ""
    }
   },
   "outputs": [],
   "source": [
    "from pyspark.sql import SparkSession\n",
    "\n",
    "spark = SparkSession.builder.appName(\"LoadCSV\").getOrCreate()"
   ]
  },
  {
   "cell_type": "code",
   "execution_count": 0,
   "metadata": {
    "application/vnd.databricks.v1+cell": {
     "cellMetadata": {
      "byteLimit": 2048000,
      "rowLimit": 10000
     },
     "inputWidgets": {},
     "nuid": "2a5189e4-7762-4c78-9a10-0f68c18ca564",
     "showTitle": false,
     "tableResultSettingsMap": {},
     "title": ""
    }
   },
   "outputs": [],
   "source": [
    "df_sales=spark.read.format('csv').option('header',True).option('inferSchema','True').load('/Volumes/workspace/default/my/sales_data.csv')"
   ]
  },
  {
   "cell_type": "code",
   "execution_count": 0,
   "metadata": {
    "application/vnd.databricks.v1+cell": {
     "cellMetadata": {
      "byteLimit": 2048000,
      "rowLimit": 10000
     },
     "inputWidgets": {},
     "nuid": "2239f8fa-90cf-4e12-8000-bac2f2df2578",
     "showTitle": false,
     "tableResultSettingsMap": {},
     "title": ""
    }
   },
   "outputs": [],
   "source": [
    "df_mapping=spark.read.format('csv').option('inferSchema',True).option('header',True).load('/Volumes/workspace/default/my/customer_salesperson_mapping.csv')"
   ]
  },
  {
   "cell_type": "code",
   "execution_count": 0,
   "metadata": {
    "application/vnd.databricks.v1+cell": {
     "cellMetadata": {
      "byteLimit": 2048000,
      "rowLimit": 10000
     },
     "inputWidgets": {},
     "nuid": "93101114-40fd-42d3-9932-87e4e32b3d2a",
     "showTitle": false,
     "tableResultSettingsMap": {},
     "title": ""
    }
   },
   "outputs": [],
   "source": [
    "df_sales.display()\n",
    "df_mapping.display()"
   ]
  },
  {
   "cell_type": "code",
   "execution_count": 0,
   "metadata": {
    "application/vnd.databricks.v1+cell": {
     "cellMetadata": {
      "byteLimit": 2048000,
      "implicitDf": true,
      "rowLimit": 10000
     },
     "inputWidgets": {},
     "nuid": "92755bbb-5994-43ed-b33d-6f4eb4e10fdd",
     "showTitle": false,
     "tableResultSettingsMap": {},
     "title": ""
    }
   },
   "outputs": [],
   "source": [
    "%sql\n",
    "CREATE TABLE IF NOT EXISTS sales_overview (\n",
    "  customer_id INT,\n",
    "  customer_name STRING,\n",
    "  sales INT\n",
    ")\n",
    "USING DELTA TBLPROPERTIES ( delta.autoOptimize.optimizeWrite = true, delta.autoOptimize.autoCompact = true, delta.enableChangeDataFeed = true)"
   ]
  },
  {
   "cell_type": "markdown",
   "metadata": {
    "application/vnd.databricks.v1+cell": {
     "cellMetadata": {
      "byteLimit": 2048000,
      "rowLimit": 10000
     },
     "inputWidgets": {},
     "nuid": "2c59887b-f130-41ec-b0bd-2e15dc80a22d",
     "showTitle": false,
     "tableResultSettingsMap": {},
     "title": ""
    }
   },
   "source": [
    "A Delta table in Databricks is a table format that is built on top of the open-source Delta Lake storage layer, providing features like ACID transactions and time travel to data lakes. Delta tables store data as a directory of files, but their transaction log provides the reliability and performance of a database, making them the default and recommended table type in Databricks. \n",
    "\n",
    "**Key features and benefits**\n",
    "- **ACID transactions:** Ensures data reliability with strong isolation, allowing multiple users to perform operations like merge, update, and delete concurrently.\n",
    "- **Time travel:** Enables you to query or revert to a previous version of the table, which is useful for audits or rolling back changes.\n",
    "- **Unified batch and streaming:** Supports both batch and streaming data processing with \"exactly-once\" semantics, unifying ingestion and queries.\n",
    "- **Scalable metadata:** Handles large tables with billions of partitions and files.\n",
    "- **Schema enforcement and evolution:** Prevents bad data from corrupting tables and allows for schema changes over time.\n",
    "- **Performance optimizations:** Provides features like data pruning and predicate pushdowns to speed up queries. "
   ]
  },
  {
   "cell_type": "code",
   "execution_count": 0,
   "metadata": {
    "application/vnd.databricks.v1+cell": {
     "cellMetadata": {
      "byteLimit": 2048000,
      "rowLimit": 10000
     },
     "inputWidgets": {},
     "nuid": "8a97258e-2644-4164-be66-f887ffb0439b",
     "showTitle": false,
     "tableResultSettingsMap": {},
     "title": ""
    }
   },
   "outputs": [],
   "source": [
    "df_join=df_sales.join(df_mapping,df_sales['Salesperson']==df_mapping['Salesperson'],'inner')\n",
    "df_date=df_join.select(col('Date'))"
   ]
  },
  {
   "cell_type": "code",
   "execution_count": 0,
   "metadata": {
    "application/vnd.databricks.v1+cell": {
     "cellMetadata": {
      "byteLimit": 2048000,
      "implicitDf": true,
      "rowLimit": 10000
     },
     "inputWidgets": {},
     "nuid": "3c07b37e-2664-4593-9464-c57e6f648f89",
     "showTitle": false,
     "tableResultSettingsMap": {},
     "title": ""
    }
   },
   "outputs": [],
   "source": [
    "%sql\n",
    "CREATE TABLE IF NOT EXISTS test (\n",
    "date string\n",
    ")\n",
    "USING DELTA TBLPROPERTIES ( delta.autoOptimize.optimizeWrite = true, delta.autoOptimize.autoCompact = true, delta.enableChangeDataFeed = true)"
   ]
  },
  {
   "cell_type": "code",
   "execution_count": 0,
   "metadata": {
    "application/vnd.databricks.v1+cell": {
     "cellMetadata": {
      "byteLimit": 2048000,
      "rowLimit": 10000
     },
     "inputWidgets": {},
     "nuid": "41122ece-2afa-4c16-88cb-9edd96d076df",
     "showTitle": false,
     "tableResultSettingsMap": {},
     "title": ""
    }
   },
   "outputs": [],
   "source": [
    "df_date.write.mode(\"append\").insertInto(\"test\")"
   ]
  },
  {
   "cell_type": "code",
   "execution_count": 0,
   "metadata": {
    "application/vnd.databricks.v1+cell": {
     "cellMetadata": {
      "byteLimit": 2048000,
      "implicitDf": true,
      "rowLimit": 10000
     },
     "inputWidgets": {},
     "nuid": "0049c439-c80e-4080-83ec-cae73a243344",
     "showTitle": false,
     "tableResultSettingsMap": {},
     "title": ""
    }
   },
   "outputs": [],
   "source": [
    "%sql\n",
    "select * from test;"
   ]
  },
  {
   "cell_type": "code",
   "execution_count": 0,
   "metadata": {
    "application/vnd.databricks.v1+cell": {
     "cellMetadata": {
      "byteLimit": 2048000,
      "rowLimit": 10000
     },
     "inputWidgets": {},
     "nuid": "695e8e9e-6766-4545-9168-69632e3ad3da",
     "showTitle": false,
     "tableResultSettingsMap": {},
     "title": ""
    }
   },
   "outputs": [],
   "source": [
    "df_joined = (\n",
    "    df_sales.alias(\"a\")\n",
    "    .join(\n",
    "        df_mapping.alias(\"b\"),\n",
    "        df_sales[\"Salesperson\"] == df_mapping[\"Salesperson\"],\n",
    "        \"inner\",\n",
    "    )\n",
    "    .select(\n",
    "        col(\"Date\"),\n",
    "        col(\"a.Region\"),\n",
    "        col(\"Product\"),\n",
    "        col(\"Units Sold\"),\n",
    "        col(\"Unit Price\"),\n",
    "        col(\"Total Revenue\"),\n",
    "        col(\"Customer Name\"),\n",
    "    )\n",
    "    .withColumnRenamed(\"Customer Name\", \"cust_nm\")\n",
    "    .withColumnRenamed(\"Total Revenue\", \"tot_rev\")\n",
    "    .withColumnRenamed(\"Units Sold\", \"units_sold\")\n",
    "    .withColumnRenamed(\"Unit Price\", \"unit_price\")\n",
    ")"
   ]
  },
  {
   "cell_type": "code",
   "execution_count": 0,
   "metadata": {
    "application/vnd.databricks.v1+cell": {
     "cellMetadata": {
      "byteLimit": 2048000,
      "rowLimit": 10000
     },
     "inputWidgets": {},
     "nuid": "2f4400eb-056b-4d11-82a7-8033036bb3a8",
     "showTitle": false,
     "tableResultSettingsMap": {
      "0": {
       "dataGridStateBlob": "{\"version\":1,\"tableState\":{\"columnPinning\":{\"left\":[\"#row_number#\"],\"right\":[]},\"columnSizing\":{},\"columnVisibility\":{}},\"settings\":{\"columns\":{}},\"syncTimestamp\":1761220127826}",
       "filterBlob": null,
       "queryPlanFiltersBlob": null,
       "tableResultIndex": 0
      }
     },
     "title": ""
    }
   },
   "outputs": [
    {
     "output_type": "display_data",
     "data": {
      "text/plain": [
       "Databricks visualization. Run in Databricks to view."
      ]
     },
     "metadata": {
      "application/vnd.databricks.v1.subcommand+json": {
       "baseErrorDetails": null,
       "bindings": {},
       "collapsed": false,
       "command": "%python\n__backend_agg_display_orig = display\n__backend_agg_dfs = []\ndef __backend_agg_display_new(df):\n    __backend_agg_df_modules = [\"pandas.core.frame\", \"databricks.koalas.frame\", \"pyspark.sql.dataframe\", \"pyspark.pandas.frame\", \"pyspark.sql.connect.dataframe\"]\n    if (type(df).__module__ in __backend_agg_df_modules and type(df).__name__ == 'DataFrame') or isinstance(df, list):\n        __backend_agg_dfs.append(df)\n\ndisplay = __backend_agg_display_new\n\ndef __backend_agg_user_code_fn():\n    import base64\n    exec(base64.standard_b64decode(\"ZnJvbSBweXNwYXJrLnNxbC53aW5kb3cgaW1wb3J0IFdpbmRvdwoKd2luZG93ID0gV2luZG93LnBhcnRpdGlvbkJ5KCJjdXN0X25tIikub3JkZXJCeShjb2woIkRhdGUiKS5kZXNjKCkpCmRmX2pvaW5lZC53aXRoQ29sdW1uKCJEYXRlIiwgdG9fZGF0ZShjb2woIkRhdGUiKSwgInl5eXktbW0tZGQiKSkud2l0aENvbHVtbigKICAgICJEYXRlIiwgZGF0ZV9mb3JtYXQoY29sKCJEYXRlIiksICJkL01NTS95IikKKS53aXRoQ29sdW1uKCJydW5uaW5nX3N1bSIsIHN1bSgidG90X3JldiIpLm92ZXIod2luZG93KSkud2l0aENvbHVtbigKICAgICJsZWFkIiwgbGVhZCgidG90X3JldiIpLm92ZXIod2luZG93KQopLmRpc3BsYXkoKQ==\").decode())\n\ntry:\n    # run user code\n    __backend_agg_user_code_fn()\n\n    #reset display function\n    display = __backend_agg_display_orig\n\n    if len(__backend_agg_dfs) > 0:\n        # create a temp view\n        if type(__backend_agg_dfs[0]).__module__ == \"databricks.koalas.frame\":\n            # koalas dataframe\n            __backend_agg_dfs[0].to_spark().createOrReplaceTempView(\"DatabricksViewc9f551e\")\n        elif type(__backend_agg_dfs[0]).__module__ == \"pandas.core.frame\" or isinstance(__backend_agg_dfs[0], list):\n            # pandas dataframe\n            spark.createDataFrame(__backend_agg_dfs[0]).createOrReplaceTempView(\"DatabricksViewc9f551e\")\n        else:\n            __backend_agg_dfs[0].createOrReplaceTempView(\"DatabricksViewc9f551e\")\n        #run backend agg\n        display(spark.sql(\"\"\"WITH q AS (select * from DatabricksViewc9f551e) SELECT `Date`,SUM(`tot_rev`) `column_66647a9a92`,SUM(`unit_price`) `column_66647a9a93`,SUM(`units_sold`) `column_66647a9a94`,`Region` FROM q GROUP BY `Date`,`Region`\"\"\"))\n    else:\n        displayHTML(\"dataframe no longer exists. If you're using dataframe.display(), use display(dataframe) instead.\")\n\n\nfinally:\n    spark.sql(\"drop view if exists DatabricksViewc9f551e\")\n    display = __backend_agg_display_orig\n    del __backend_agg_display_new\n    del __backend_agg_display_orig\n    del __backend_agg_dfs\n    del __backend_agg_user_code_fn\n\n",
       "commandTitle": "Visualization 1",
       "commandType": "auto",
       "commandVersion": 0,
       "commentThread": [],
       "commentsVisible": false,
       "contentSha256Hex": null,
       "customPlotOptions": {
        "redashChart": [
         {
          "key": "type",
          "value": "CHART"
         },
         {
          "key": "options",
          "value": {
           "alignYAxesAtZero": true,
           "coefficient": 1,
           "columnConfigurationMap": {
            "series": {
             "column": "Region",
             "id": "column_66647a9a88"
            },
            "x": {
             "column": "Date",
             "id": "column_66647a9a85"
            },
            "y": [
             {
              "column": "tot_rev",
              "id": "column_66647a9a92",
              "transform": "SUM"
             },
             {
              "column": "unit_price",
              "id": "column_66647a9a93",
              "transform": "SUM"
             },
             {
              "column": "units_sold",
              "id": "column_66647a9a94",
              "transform": "SUM"
             }
            ]
           },
           "dateTimeFormat": "DD/MM/YYYY HH:mm",
           "direction": {
            "type": "counterclockwise"
           },
           "error_y": {
            "type": "data",
            "visible": true
           },
           "globalSeriesType": "line",
           "isAggregationOn": true,
           "legend": {
            "traceorder": "normal"
           },
           "missingValuesAsZero": true,
           "numberFormat": "0,0.[00000]",
           "percentFormat": "0[.]00%",
           "series": {
            "error_y": {
             "type": "data",
             "visible": true
            },
            "stacking": null
           },
           "seriesOptions": {
            "Region": {
             "type": "line",
             "yAxis": 0
            },
            "column_66647a9a92": {
             "type": "line",
             "yAxis": 0
            },
            "column_66647a9a93": {
             "type": "line",
             "yAxis": 0
            },
            "column_66647a9a94": {
             "type": "line",
             "yAxis": 0
            },
            "tot_rev": {
             "type": "line",
             "yAxis": 0
            },
            "unit_price": {
             "type": "line",
             "yAxis": 0
            },
            "units_sold": {
             "type": "line",
             "yAxis": 0
            }
           },
           "showDataLabels": false,
           "sizemode": "diameter",
           "sortX": true,
           "sortY": true,
           "swappedAxes": false,
           "textFormat": "",
           "useAggregationsUi": true,
           "valuesOptions": {},
           "version": 2,
           "xAxis": {
            "labels": {
             "enabled": true
            },
            "type": "-"
           },
           "yAxis": [
            {
             "type": "-"
            },
            {
             "opposite": true,
             "type": "-"
            }
           ]
          }
         }
        ]
       },
       "datasetPreviewNameToCmdIdMap": {},
       "diffDeletes": [],
       "diffInserts": [],
       "displayType": "redashChart",
       "error": null,
       "errorDetails": null,
       "errorSummary": null,
       "errorTraceType": null,
       "finishTime": 0,
       "globalVars": {},
       "guid": "",
       "height": "auto",
       "hideCommandCode": false,
       "hideCommandResult": false,
       "iPythonMetadata": null,
       "inputWidgets": {},
       "isLockedInExamMode": false,
       "latestAssumeRoleInfo": null,
       "latestUser": "a user",
       "latestUserId": null,
       "listResultMetadata": null,
       "metadata": {
        "byteLimit": 2048000,
        "rowLimit": 10000
       },
       "nuid": "269fe37b-0a72-49e5-ae47-56984f18eb8f",
       "origId": 0,
       "parentHierarchy": [],
       "pivotAggregation": null,
       "pivotColumns": null,
       "position": 12.0,
       "resultDbfsErrorMessage": null,
       "resultDbfsStatus": "INLINED_IN_TREE",
       "results": null,
       "showCommandTitle": false,
       "startTime": 0,
       "state": "input",
       "streamStates": {},
       "subcommandOptions": {
        "queryPlan": {
         "groups": [
          {
           "column": "Date",
           "type": "column"
          },
          {
           "column": "Region",
           "type": "column"
          }
         ],
         "selects": [
          {
           "column": "Date",
           "type": "column"
          },
          {
           "alias": "column_66647a9a92",
           "args": [
            {
             "column": "tot_rev",
             "type": "column"
            }
           ],
           "function": "SUM",
           "type": "function"
          },
          {
           "alias": "column_66647a9a93",
           "args": [
            {
             "column": "unit_price",
             "type": "column"
            }
           ],
           "function": "SUM",
           "type": "function"
          },
          {
           "alias": "column_66647a9a94",
           "args": [
            {
             "column": "units_sold",
             "type": "column"
            }
           ],
           "function": "SUM",
           "type": "function"
          },
          {
           "column": "Region",
           "type": "column"
          }
         ]
        }
       },
       "submitTime": 0,
       "subtype": "tableResultSubCmd.visualization",
       "tableResultIndex": 0,
       "tableResultSettingsMap": {},
       "useConsistentColors": false,
       "version": "CommandV1",
       "width": "auto",
       "workflows": null,
       "xColumns": null,
       "yColumns": null
      }
     },
     "output_type": "display_data"
    }
   ],
   "source": [
    "from pyspark.sql.window import Window\n",
    "\n",
    "window = Window.partitionBy(\"cust_nm\").orderBy(col(\"Date\").desc())\n",
    "df_joined.withColumn(\"Date\", to_date(col(\"Date\"), \"yyyy-mm-dd\")).withColumn(\n",
    "    \"Date\", date_format(col(\"Date\"), \"d/MMM/y\")\n",
    ").withColumn(\"running_sum\", sum(\"tot_rev\").over(window)).withColumn(\n",
    "    \"lead\", lead(\"tot_rev\").over(window)\n",
    ").display()"
   ]
  },
  {
   "cell_type": "code",
   "execution_count": 0,
   "metadata": {
    "application/vnd.databricks.v1+cell": {
     "cellMetadata": {
      "byteLimit": 2048000,
      "rowLimit": 10000
     },
     "inputWidgets": {},
     "nuid": "ed491298-5cb2-408c-9eb1-66b4f83f3f0a",
     "showTitle": false,
     "tableResultSettingsMap": {},
     "title": ""
    }
   },
   "outputs": [],
   "source": [
    "db=[row.cust_nm for row in df_joined.select(\"cust_nm\").distinct().collect()]"
   ]
  },
  {
   "cell_type": "code",
   "execution_count": 0,
   "metadata": {
    "application/vnd.databricks.v1+cell": {
     "cellMetadata": {
      "byteLimit": 2048000,
      "rowLimit": 10000
     },
     "inputWidgets": {},
     "nuid": "b5e6c8ec-93d6-4d1b-a714-01b8c2dc22c4",
     "showTitle": false,
     "tableResultSettingsMap": {},
     "title": ""
    }
   },
   "outputs": [],
   "source": [
    "dbutils.widgets.dropdown( \"\",db[0], db, \"xyz\")"
   ]
  },
  {
   "cell_type": "code",
   "execution_count": 0,
   "metadata": {
    "application/vnd.databricks.v1+cell": {
     "cellMetadata": {
      "byteLimit": 2048000,
      "rowLimit": 10000
     },
     "inputWidgets": {},
     "nuid": "3692eaa8-bd69-4020-be1b-dbc040c212c6",
     "showTitle": false,
     "tableResultSettingsMap": {},
     "title": ""
    }
   },
   "outputs": [],
   "source": [
    " env = dbutils.widgets.get(\"xyz\")\n",
    " print(env)"
   ]
  },
  {
   "cell_type": "code",
   "execution_count": 0,
   "metadata": {
    "application/vnd.databricks.v1+cell": {
     "cellMetadata": {
      "byteLimit": 2048000,
      "rowLimit": 10000
     },
     "inputWidgets": {},
     "nuid": "9ab017f4-313d-4571-8983-bf62f44f7882",
     "showTitle": false,
     "tableResultSettingsMap": {},
     "title": ""
    }
   },
   "outputs": [],
   "source": [
    "window = Window.partitionBy(\"cust_nm\").orderBy(col(\"Date\").desc())\n",
    "df_joined.withColumn(\"Date\", to_date(col(\"Date\"), \"yyyy-mm-dd\")).withColumn(\n",
    "    \"Date\", date_format(col(\"Date\"), \"d/MMM/y\")\n",
    ").withColumn(\"running_sum\", sum(\"tot_rev\").over(window)).withColumn(\n",
    "    \"lead\", lead(\"tot_rev\").over(window)\n",
    ").distinct().fillna(0)."
   ]
  }
 ],
 "metadata": {
  "application/vnd.databricks.v1+notebook": {
   "computePreferences": null,
   "dashboards": [],
   "environmentMetadata": {
    "base_environment": "",
    "environment_version": "4"
   },
   "inputWidgetPreferences": null,
   "language": "python",
   "notebookMetadata": {
    "mostRecentlyExecutedCommandWithImplicitDF": {
     "commandId": 8521776503462708,
     "dataframes": [
      "_sqldf"
     ]
    },
    "pythonIndentUnit": 4
   },
   "notebookName": "Overview-Dataload",
   "widgets": {
    "": {
     "currentValue": "dev",
     "nuid": "87ce671e-ba36-4196-a659-660cec020300",
     "typedWidgetInfo": {
      "autoCreated": false,
      "defaultValue": "Rho Ventures",
      "label": "xyz",
      "name": "",
      "options": {
       "widgetDisplayType": "Dropdown",
       "choices": [
        "Rho Ventures",
        "Zeta Group",
        "Eta Enterprises",
        "Xi Innovations",
        "Nu Networks",
        "Kappa Partners",
        "Theta Solutions",
        "Sigma Traders",
        "Acme Corp",
        "Upsilon Retail",
        "Iota Systems",
        "Mu Dynamics",
        "Tau Logistics",
        "Epsilon Ltd",
        "Delta Co",
        "Omicron Services",
        "Beta LLC",
        "Lambda Tech",
        "Pi Holdings",
        "Gamma Inc"
       ],
       "fixedDomain": true,
       "multiselect": false
      },
      "parameterDataType": "String"
     },
     "widgetInfo": {
      "widgetType": "dropdown",
      "defaultValue": "Rho Ventures",
      "label": "xyz",
      "name": "",
      "options": {
       "widgetType": "dropdown",
       "autoCreated": null,
       "choices": [
        "Rho Ventures",
        "Zeta Group",
        "Eta Enterprises",
        "Xi Innovations",
        "Nu Networks",
        "Kappa Partners",
        "Theta Solutions",
        "Sigma Traders",
        "Acme Corp",
        "Upsilon Retail",
        "Iota Systems",
        "Mu Dynamics",
        "Tau Logistics",
        "Epsilon Ltd",
        "Delta Co",
        "Omicron Services",
        "Beta LLC",
        "Lambda Tech",
        "Pi Holdings",
        "Gamma Inc"
       ]
      }
     }
    }
   }
  },
  "language_info": {
   "name": "python"
  }
 },
 "nbformat": 4,
 "nbformat_minor": 0
}
