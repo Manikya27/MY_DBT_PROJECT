{
 "cells": [
  {
   "cell_type": "code",
   "execution_count": 0,
   "metadata": {
    "application/vnd.databricks.v1+cell": {
     "cellMetadata": {
      "byteLimit": 2048000,
      "rowLimit": 10000
     },
     "inputWidgets": {},
     "nuid": "e4861ede-4f52-4be9-88aa-b3a0a50a3af5",
     "showTitle": false,
     "tableResultSettingsMap": {},
     "title": ""
    }
   },
   "outputs": [],
   "source": [
    "import pandas as pd\n",
    "import numpy as np \n",
    "import matplotlib.pyplot as plt\n",
    "from pyspark.sql.functions import *"
   ]
  },
  {
   "cell_type": "code",
   "execution_count": 0,
   "metadata": {
    "application/vnd.databricks.v1+cell": {
     "cellMetadata": {
      "byteLimit": 2048000,
      "rowLimit": 10000
     },
     "inputWidgets": {},
     "nuid": "d89898ea-5d46-48e2-a9ec-cc17f24a7d21",
     "showTitle": false,
     "tableResultSettingsMap": {},
     "title": ""
    }
   },
   "outputs": [],
   "source": [
    "from pyspark.sql import SparkSession\n",
    "\n",
    "spark = SparkSession.builder.appName(\"LoadCSV\").getOrCreate()"
   ]
  },
  {
   "cell_type": "code",
   "execution_count": 0,
   "metadata": {
    "application/vnd.databricks.v1+cell": {
     "cellMetadata": {
      "byteLimit": 2048000,
      "rowLimit": 10000
     },
     "inputWidgets": {},
     "nuid": "2a5189e4-7762-4c78-9a10-0f68c18ca564",
     "showTitle": false,
     "tableResultSettingsMap": {},
     "title": ""
    }
   },
   "outputs": [],
   "source": [
    "df_sales=spark.read.format('csv').option('header',True).option('inferSchema','True').load('/Volumes/workspace/default/my/sales_data.csv')"
   ]
  },
  {
   "cell_type": "code",
   "execution_count": 0,
   "metadata": {
    "application/vnd.databricks.v1+cell": {
     "cellMetadata": {
      "byteLimit": 2048000,
      "rowLimit": 10000
     },
     "inputWidgets": {},
     "nuid": "2239f8fa-90cf-4e12-8000-bac2f2df2578",
     "showTitle": false,
     "tableResultSettingsMap": {},
     "title": ""
    }
   },
   "outputs": [],
   "source": [
    "df_mapping=spark.read.format('csv').option('inferSchema',True).option('header',True).load('/Volumes/workspace/default/my/customer_salesperson_mapping.csv')"
   ]
  },
  {
   "cell_type": "code",
   "execution_count": 0,
   "metadata": {
    "application/vnd.databricks.v1+cell": {
     "cellMetadata": {
      "byteLimit": 2048000,
      "rowLimit": 10000
     },
     "inputWidgets": {},
     "nuid": "93101114-40fd-42d3-9932-87e4e32b3d2a",
     "showTitle": false,
     "tableResultSettingsMap": {},
     "title": ""
    }
   },
   "outputs": [],
   "source": [
    "df_sales.display()\n",
    "df_mapping.display()"
   ]
  },
  {
   "cell_type": "code",
   "execution_count": 0,
   "metadata": {
    "application/vnd.databricks.v1+cell": {
     "cellMetadata": {
      "byteLimit": 2048000,
      "implicitDf": true,
      "rowLimit": 10000
     },
     "inputWidgets": {},
     "nuid": "92755bbb-5994-43ed-b33d-6f4eb4e10fdd",
     "showTitle": false,
     "tableResultSettingsMap": {},
     "title": ""
    }
   },
   "outputs": [],
   "source": [
    "%sql\n",
    "CREATE TABLE IF NOT EXISTS sales_overview (\n",
    "  customer_id INT,\n",
    "  customer_name STRING,\n",
    "  sales INT\n",
    ")\n",
    "USING DELTA TBLPROPERTIES ( delta.autoOptimize.optimizeWrite = true, delta.autoOptimize.autoCompact = true, delta.enableChangeDataFeed = true)"
   ]
  },
  {
   "cell_type": "markdown",
   "metadata": {
    "application/vnd.databricks.v1+cell": {
     "cellMetadata": {
      "byteLimit": 2048000,
      "rowLimit": 10000
     },
     "inputWidgets": {},
     "nuid": "2c59887b-f130-41ec-b0bd-2e15dc80a22d",
     "showTitle": false,
     "tableResultSettingsMap": {},
     "title": ""
    }
   },
   "source": [
    "A Delta table in Databricks is a table format that is built on top of the open-source Delta Lake storage layer, providing features like ACID transactions and time travel to data lakes. Delta tables store data as a directory of files, but their transaction log provides the reliability and performance of a database, making them the default and recommended table type in Databricks. \n",
    "\n",
    "**Key features and benefits**\n",
    "- **ACID transactions:** Ensures data reliability with strong isolation, allowing multiple users to perform operations like merge, update, and delete concurrently.\n",
    "- **Time travel:** Enables you to query or revert to a previous version of the table, which is useful for audits or rolling back changes.\n",
    "- **Unified batch and streaming:** Supports both batch and streaming data processing with \"exactly-once\" semantics, unifying ingestion and queries.\n",
    "- **Scalable metadata:** Handles large tables with billions of partitions and files.\n",
    "- **Schema enforcement and evolution:** Prevents bad data from corrupting tables and allows for schema changes over time.\n",
    "- **Performance optimizations:** Provides features like data pruning and predicate pushdowns to speed up queries. "
   ]
  },
  {
   "cell_type": "code",
   "execution_count": 0,
   "metadata": {
    "application/vnd.databricks.v1+cell": {
     "cellMetadata": {
      "byteLimit": 2048000,
      "rowLimit": 10000
     },
     "inputWidgets": {},
     "nuid": "8a97258e-2644-4164-be66-f887ffb0439b",
     "showTitle": false,
     "tableResultSettingsMap": {},
     "title": ""
    }
   },
   "outputs": [],
   "source": [
    "df_join=df_sales.join(df_mapping,df_sales['Salesperson']==df_mapping['Salesperson'],'inner')\n",
    "df_date=df_join.select(col('Date'))"
   ]
  },
  {
   "cell_type": "code",
   "execution_count": 0,
   "metadata": {
    "application/vnd.databricks.v1+cell": {
     "cellMetadata": {
      "byteLimit": 2048000,
      "implicitDf": true,
      "rowLimit": 10000
     },
     "inputWidgets": {},
     "nuid": "3c07b37e-2664-4593-9464-c57e6f648f89",
     "showTitle": false,
     "tableResultSettingsMap": {},
     "title": ""
    }
   },
   "outputs": [],
   "source": [
    "%sql\n",
    "CREATE TABLE IF NOT EXISTS test (\n",
    "date string\n",
    ")\n",
    "USING DELTA TBLPROPERTIES ( delta.autoOptimize.optimizeWrite = true, delta.autoOptimize.autoCompact = true, delta.enableChangeDataFeed = true)"
   ]
  },
  {
   "cell_type": "code",
   "execution_count": 0,
   "metadata": {
    "application/vnd.databricks.v1+cell": {
     "cellMetadata": {
      "byteLimit": 2048000,
      "rowLimit": 10000
     },
     "inputWidgets": {},
     "nuid": "41122ece-2afa-4c16-88cb-9edd96d076df",
     "showTitle": false,
     "tableResultSettingsMap": {},
     "title": ""
    }
   },
   "outputs": [],
   "source": [
    "df_date.write.mode(\"append\").insertInto(\"test\")"
   ]
  },
  {
   "cell_type": "code",
   "execution_count": 0,
   "metadata": {
    "application/vnd.databricks.v1+cell": {
     "cellMetadata": {
      "byteLimit": 2048000,
      "implicitDf": true,
      "rowLimit": 10000
     },
     "inputWidgets": {},
     "nuid": "0049c439-c80e-4080-83ec-cae73a243344",
     "showTitle": false,
     "tableResultSettingsMap": {},
     "title": ""
    }
   },
   "outputs": [],
   "source": [
    "%sql\n",
    "select * from test;"
   ]
  },
  {
   "cell_type": "code",
   "execution_count": 0,
   "metadata": {
    "application/vnd.databricks.v1+cell": {
     "cellMetadata": {
      "byteLimit": 2048000,
      "rowLimit": 10000
     },
     "inputWidgets": {},
     "nuid": "695e8e9e-6766-4545-9168-69632e3ad3da",
     "showTitle": false,
     "tableResultSettingsMap": {},
     "title": ""
    }
   },
   "outputs": [],
   "source": [
    "df_joined=df_sales.alias(\"a\").join(df_mapping.alias(\"b\"),df_sales[\"Salesperson\"]==df_mapping[\"Salesperson\"],'inner')\\\n",
    "    .select(col(\"Date\"),col(\"a.Region\"),col(\"Product\"),col(\"Units Sold\"),col(\"Unit Price\"),col(\"Total Revenue\"),col(\"Customer Name\"))\\\n",
    "        .withColumnRenamed(\"Customer Name\",\"cust_nm\")\\\n",
    "            .withColumnRenamed(\"Total Revenue\",\"tot_rev\")\\\n",
    "                .withColumnRenamed(\"Units Sold\",\"units_sold\")\\\n",
    "                    .withColumnRenamed(\"Unit Price\",\"unit_price\")"
   ]
  },
  {
   "cell_type": "code",
   "execution_count": 0,
   "metadata": {
    "application/vnd.databricks.v1+cell": {
     "cellMetadata": {
      "byteLimit": 2048000,
      "rowLimit": 10000
     },
     "inputWidgets": {},
     "nuid": "2f4400eb-056b-4d11-82a7-8033036bb3a8",
     "showTitle": false,
     "tableResultSettingsMap": {
      "0": {
       "dataGridStateBlob": "{\"version\":1,\"tableState\":{\"columnPinning\":{\"left\":[\"#row_number#\"],\"right\":[]},\"columnSizing\":{},\"columnVisibility\":{}},\"settings\":{\"columns\":{}},\"syncTimestamp\":1761220127826}",
       "filterBlob": null,
       "queryPlanFiltersBlob": null,
       "tableResultIndex": 0
      }
     },
     "title": ""
    }
   },
   "outputs": [],
   "source": [
    "from pyspark.sql.window import Window\n",
    "window=Window.partitionBy(\"cust_nm\").orderBy(col('Date').desc())\n",
    "df_joined.withColumn(\"Date\",to_date(col(\"Date\"),\"yyyy-mm-dd\")).withColumn(\"Date\",date_format(col(\"Date\"),\"d/MMM/y\")).withColumn(\"running_sum\",sum(\"tot_rev\").over(window))\\\n",
    "    .withColumn(\"lead\",lead(\"tot_rev\").over(window))\\\n",
    "        .display()"
   ]
  },
  {
   "cell_type": "code",
   "execution_count": 0,
   "metadata": {
    "application/vnd.databricks.v1+cell": {
     "cellMetadata": {
      "byteLimit": 2048000,
      "rowLimit": 10000
     },
     "inputWidgets": {},
     "nuid": "3692eaa8-bd69-4020-be1b-dbc040c212c6",
     "showTitle": false,
     "tableResultSettingsMap": {},
     "title": ""
    }
   },
   "outputs": [],
   "source": []
  }
 ],
 "metadata": {
  "application/vnd.databricks.v1+notebook": {
   "computePreferences": null,
   "dashboards": [],
   "environmentMetadata": {
    "base_environment": "",
    "environment_version": "4"
   },
   "inputWidgetPreferences": null,
   "language": "python",
   "notebookMetadata": {
    "mostRecentlyExecutedCommandWithImplicitDF": {
     "commandId": 8521776503462708,
     "dataframes": [
      "_sqldf"
     ]
    },
    "pythonIndentUnit": 4
   },
   "notebookName": "Overview-Dataload",
   "widgets": {}
  },
  "language_info": {
   "name": "python"
  }
 },
 "nbformat": 4,
 "nbformat_minor": 0
}
